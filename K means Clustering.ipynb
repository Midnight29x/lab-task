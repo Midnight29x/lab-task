{
 "cells": [
  {
   "cell_type": "code",
   "execution_count": 167,
   "id": "f0aa2e4a",
   "metadata": {},
   "outputs": [],
   "source": [
    "import numpy as np\n",
    "import pandas as pd"
   ]
  },
  {
   "cell_type": "code",
   "execution_count": 168,
   "id": "bf932e6f",
   "metadata": {},
   "outputs": [
    {
     "name": "stdout",
     "output_type": "stream",
     "text": [
      "[33, 36, 69, 32, 49, 95, 67, 73, 11, 47, 11, 54, 99, 26, 41, 80, 33, 79, 46, 38, 49, 54, 88, 88, 69, 68, 44, 48, 17, 37, 19, 94, 36, 24, 80, 2, 66, 2, 51, 10, 45, 72, 72, 71, 81, 92, 4, 88, 84, 88]\n"
     ]
    }
   ],
   "source": [
    "from numpy import random\n",
    "x=[random.randint(0,100) for i in range(50)]\n",
    "y=[random.randint(0,100) for i in range(50)]\n",
    "\n",
    "print(x)\n"
   ]
  },
  {
   "cell_type": "code",
   "execution_count": 169,
   "id": "acacad5c",
   "metadata": {},
   "outputs": [
    {
     "name": "stdout",
     "output_type": "stream",
     "text": [
      "[68, 16, 51, 48, 53, 98, 10, 27, 69, 90, 95, 30, 36, 9, 62, 30, 49, 24, 46, 91, 73, 9, 98, 67, 37, 41, 73, 13, 45, 29, 69, 28, 78, 75, 58, 13, 59, 35, 90, 13, 11, 78, 50, 32, 84, 15, 35, 94, 91, 2]\n"
     ]
    }
   ],
   "source": [
    "print(y)"
   ]
  },
  {
   "cell_type": "code",
   "execution_count": 170,
   "id": "57c80d19",
   "metadata": {},
   "outputs": [],
   "source": [
    "pd.DataFrame(list(zip(x,y)),columns = 'x,y'.split(',')).to_csv('my.csv',index=False)"
   ]
  },
  {
   "cell_type": "code",
   "execution_count": 171,
   "id": "a8b5d936",
   "metadata": {},
   "outputs": [
    {
     "data": {
      "text/html": [
       "<div>\n",
       "<style scoped>\n",
       "    .dataframe tbody tr th:only-of-type {\n",
       "        vertical-align: middle;\n",
       "    }\n",
       "\n",
       "    .dataframe tbody tr th {\n",
       "        vertical-align: top;\n",
       "    }\n",
       "\n",
       "    .dataframe thead th {\n",
       "        text-align: right;\n",
       "    }\n",
       "</style>\n",
       "<table border=\"1\" class=\"dataframe\">\n",
       "  <thead>\n",
       "    <tr style=\"text-align: right;\">\n",
       "      <th></th>\n",
       "      <th>x</th>\n",
       "      <th>y</th>\n",
       "    </tr>\n",
       "  </thead>\n",
       "  <tbody>\n",
       "    <tr>\n",
       "      <th>0</th>\n",
       "      <td>33</td>\n",
       "      <td>68</td>\n",
       "    </tr>\n",
       "    <tr>\n",
       "      <th>1</th>\n",
       "      <td>36</td>\n",
       "      <td>16</td>\n",
       "    </tr>\n",
       "    <tr>\n",
       "      <th>2</th>\n",
       "      <td>69</td>\n",
       "      <td>51</td>\n",
       "    </tr>\n",
       "    <tr>\n",
       "      <th>3</th>\n",
       "      <td>32</td>\n",
       "      <td>48</td>\n",
       "    </tr>\n",
       "    <tr>\n",
       "      <th>4</th>\n",
       "      <td>49</td>\n",
       "      <td>53</td>\n",
       "    </tr>\n",
       "    <tr>\n",
       "      <th>5</th>\n",
       "      <td>95</td>\n",
       "      <td>98</td>\n",
       "    </tr>\n",
       "    <tr>\n",
       "      <th>6</th>\n",
       "      <td>67</td>\n",
       "      <td>10</td>\n",
       "    </tr>\n",
       "    <tr>\n",
       "      <th>7</th>\n",
       "      <td>73</td>\n",
       "      <td>27</td>\n",
       "    </tr>\n",
       "    <tr>\n",
       "      <th>8</th>\n",
       "      <td>11</td>\n",
       "      <td>69</td>\n",
       "    </tr>\n",
       "    <tr>\n",
       "      <th>9</th>\n",
       "      <td>47</td>\n",
       "      <td>90</td>\n",
       "    </tr>\n",
       "    <tr>\n",
       "      <th>10</th>\n",
       "      <td>11</td>\n",
       "      <td>95</td>\n",
       "    </tr>\n",
       "    <tr>\n",
       "      <th>11</th>\n",
       "      <td>54</td>\n",
       "      <td>30</td>\n",
       "    </tr>\n",
       "    <tr>\n",
       "      <th>12</th>\n",
       "      <td>99</td>\n",
       "      <td>36</td>\n",
       "    </tr>\n",
       "    <tr>\n",
       "      <th>13</th>\n",
       "      <td>26</td>\n",
       "      <td>9</td>\n",
       "    </tr>\n",
       "    <tr>\n",
       "      <th>14</th>\n",
       "      <td>41</td>\n",
       "      <td>62</td>\n",
       "    </tr>\n",
       "    <tr>\n",
       "      <th>15</th>\n",
       "      <td>80</td>\n",
       "      <td>30</td>\n",
       "    </tr>\n",
       "    <tr>\n",
       "      <th>16</th>\n",
       "      <td>33</td>\n",
       "      <td>49</td>\n",
       "    </tr>\n",
       "    <tr>\n",
       "      <th>17</th>\n",
       "      <td>79</td>\n",
       "      <td>24</td>\n",
       "    </tr>\n",
       "    <tr>\n",
       "      <th>18</th>\n",
       "      <td>46</td>\n",
       "      <td>46</td>\n",
       "    </tr>\n",
       "    <tr>\n",
       "      <th>19</th>\n",
       "      <td>38</td>\n",
       "      <td>91</td>\n",
       "    </tr>\n",
       "    <tr>\n",
       "      <th>20</th>\n",
       "      <td>49</td>\n",
       "      <td>73</td>\n",
       "    </tr>\n",
       "    <tr>\n",
       "      <th>21</th>\n",
       "      <td>54</td>\n",
       "      <td>9</td>\n",
       "    </tr>\n",
       "    <tr>\n",
       "      <th>22</th>\n",
       "      <td>88</td>\n",
       "      <td>98</td>\n",
       "    </tr>\n",
       "    <tr>\n",
       "      <th>23</th>\n",
       "      <td>88</td>\n",
       "      <td>67</td>\n",
       "    </tr>\n",
       "    <tr>\n",
       "      <th>24</th>\n",
       "      <td>69</td>\n",
       "      <td>37</td>\n",
       "    </tr>\n",
       "    <tr>\n",
       "      <th>25</th>\n",
       "      <td>68</td>\n",
       "      <td>41</td>\n",
       "    </tr>\n",
       "    <tr>\n",
       "      <th>26</th>\n",
       "      <td>44</td>\n",
       "      <td>73</td>\n",
       "    </tr>\n",
       "    <tr>\n",
       "      <th>27</th>\n",
       "      <td>48</td>\n",
       "      <td>13</td>\n",
       "    </tr>\n",
       "    <tr>\n",
       "      <th>28</th>\n",
       "      <td>17</td>\n",
       "      <td>45</td>\n",
       "    </tr>\n",
       "    <tr>\n",
       "      <th>29</th>\n",
       "      <td>37</td>\n",
       "      <td>29</td>\n",
       "    </tr>\n",
       "    <tr>\n",
       "      <th>30</th>\n",
       "      <td>19</td>\n",
       "      <td>69</td>\n",
       "    </tr>\n",
       "    <tr>\n",
       "      <th>31</th>\n",
       "      <td>94</td>\n",
       "      <td>28</td>\n",
       "    </tr>\n",
       "    <tr>\n",
       "      <th>32</th>\n",
       "      <td>36</td>\n",
       "      <td>78</td>\n",
       "    </tr>\n",
       "    <tr>\n",
       "      <th>33</th>\n",
       "      <td>24</td>\n",
       "      <td>75</td>\n",
       "    </tr>\n",
       "    <tr>\n",
       "      <th>34</th>\n",
       "      <td>80</td>\n",
       "      <td>58</td>\n",
       "    </tr>\n",
       "    <tr>\n",
       "      <th>35</th>\n",
       "      <td>2</td>\n",
       "      <td>13</td>\n",
       "    </tr>\n",
       "    <tr>\n",
       "      <th>36</th>\n",
       "      <td>66</td>\n",
       "      <td>59</td>\n",
       "    </tr>\n",
       "    <tr>\n",
       "      <th>37</th>\n",
       "      <td>2</td>\n",
       "      <td>35</td>\n",
       "    </tr>\n",
       "    <tr>\n",
       "      <th>38</th>\n",
       "      <td>51</td>\n",
       "      <td>90</td>\n",
       "    </tr>\n",
       "    <tr>\n",
       "      <th>39</th>\n",
       "      <td>10</td>\n",
       "      <td>13</td>\n",
       "    </tr>\n",
       "    <tr>\n",
       "      <th>40</th>\n",
       "      <td>45</td>\n",
       "      <td>11</td>\n",
       "    </tr>\n",
       "    <tr>\n",
       "      <th>41</th>\n",
       "      <td>72</td>\n",
       "      <td>78</td>\n",
       "    </tr>\n",
       "    <tr>\n",
       "      <th>42</th>\n",
       "      <td>72</td>\n",
       "      <td>50</td>\n",
       "    </tr>\n",
       "    <tr>\n",
       "      <th>43</th>\n",
       "      <td>71</td>\n",
       "      <td>32</td>\n",
       "    </tr>\n",
       "    <tr>\n",
       "      <th>44</th>\n",
       "      <td>81</td>\n",
       "      <td>84</td>\n",
       "    </tr>\n",
       "    <tr>\n",
       "      <th>45</th>\n",
       "      <td>92</td>\n",
       "      <td>15</td>\n",
       "    </tr>\n",
       "    <tr>\n",
       "      <th>46</th>\n",
       "      <td>4</td>\n",
       "      <td>35</td>\n",
       "    </tr>\n",
       "    <tr>\n",
       "      <th>47</th>\n",
       "      <td>88</td>\n",
       "      <td>94</td>\n",
       "    </tr>\n",
       "    <tr>\n",
       "      <th>48</th>\n",
       "      <td>84</td>\n",
       "      <td>91</td>\n",
       "    </tr>\n",
       "    <tr>\n",
       "      <th>49</th>\n",
       "      <td>88</td>\n",
       "      <td>2</td>\n",
       "    </tr>\n",
       "  </tbody>\n",
       "</table>\n",
       "</div>"
      ],
      "text/plain": [
       "     x   y\n",
       "0   33  68\n",
       "1   36  16\n",
       "2   69  51\n",
       "3   32  48\n",
       "4   49  53\n",
       "5   95  98\n",
       "6   67  10\n",
       "7   73  27\n",
       "8   11  69\n",
       "9   47  90\n",
       "10  11  95\n",
       "11  54  30\n",
       "12  99  36\n",
       "13  26   9\n",
       "14  41  62\n",
       "15  80  30\n",
       "16  33  49\n",
       "17  79  24\n",
       "18  46  46\n",
       "19  38  91\n",
       "20  49  73\n",
       "21  54   9\n",
       "22  88  98\n",
       "23  88  67\n",
       "24  69  37\n",
       "25  68  41\n",
       "26  44  73\n",
       "27  48  13\n",
       "28  17  45\n",
       "29  37  29\n",
       "30  19  69\n",
       "31  94  28\n",
       "32  36  78\n",
       "33  24  75\n",
       "34  80  58\n",
       "35   2  13\n",
       "36  66  59\n",
       "37   2  35\n",
       "38  51  90\n",
       "39  10  13\n",
       "40  45  11\n",
       "41  72  78\n",
       "42  72  50\n",
       "43  71  32\n",
       "44  81  84\n",
       "45  92  15\n",
       "46   4  35\n",
       "47  88  94\n",
       "48  84  91\n",
       "49  88   2"
      ]
     },
     "execution_count": 171,
     "metadata": {},
     "output_type": "execute_result"
    }
   ],
   "source": [
    "data = pd.read_csv(\"my.csv\")\n",
    "data"
   ]
  },
  {
   "cell_type": "code",
   "execution_count": 172,
   "id": "d00ceb3b",
   "metadata": {},
   "outputs": [
    {
     "data": {
      "text/plain": [
       "\"import math\\nnp.random.seed(123)\\n\\ndef circulo(num_datos = 100,R = 1, minimo = 0,maximo= 1, center_x = 0 , center_y = 0):\\n    pi = math.pi\\n    r = R * np.sqrt(np.random.uniform(minimo, maximo, size = num_datos)) \\n    theta = np.random.uniform(minimo, maximo, size= num_datos) * 2 * pi\\n\\n    x = center_x + np.cos(theta) * r\\n    y = center_y + np.sin(theta) * r\\n\\n    x = np.round(x,3)\\n    y = np.round(y,3)\\n\\n    df = np.column_stack([x,y])\\n    df = pd.DataFrame(df)\\n    df.columns = ['x','y']\\n    return(df)\\n\\n# Create data\\ndatos_1 = circulo(num_datos = 20,R = 10, center_x = 5, center_y = 30)\\ndatos_2 = circulo(num_datos = 20,R = 10, center_x = 20, center_y = 10)\\ndatos_3 = circulo(num_datos = 20,R = 10, center_x = 50, center_y = 50)\\n\\ndata = datos_1.append(datos_2).append(datos_3)\\ndata.head()\""
      ]
     },
     "execution_count": 172,
     "metadata": {},
     "output_type": "execute_result"
    }
   ],
   "source": [
    "'''import math\n",
    "np.random.seed(123)\n",
    "\n",
    "def circulo(num_datos = 100,R = 1, minimo = 0,maximo= 1, center_x = 0 , center_y = 0):\n",
    "    pi = math.pi\n",
    "    r = R * np.sqrt(np.random.uniform(minimo, maximo, size = num_datos)) \n",
    "    theta = np.random.uniform(minimo, maximo, size= num_datos) * 2 * pi\n",
    "\n",
    "    x = center_x + np.cos(theta) * r\n",
    "    y = center_y + np.sin(theta) * r\n",
    "\n",
    "    x = np.round(x,3)\n",
    "    y = np.round(y,3)\n",
    "\n",
    "    df = np.column_stack([x,y])\n",
    "    df = pd.DataFrame(df)\n",
    "    df.columns = ['x','y']\n",
    "    return(df)\n",
    "\n",
    "# Create data\n",
    "datos_1 = circulo(num_datos = 20,R = 10, center_x = 5, center_y = 30)\n",
    "datos_2 = circulo(num_datos = 20,R = 10, center_x = 20, center_y = 10)\n",
    "datos_3 = circulo(num_datos = 20,R = 10, center_x = 50, center_y = 50)\n",
    "\n",
    "data = datos_1.append(datos_2).append(datos_3)\n",
    "data.head()'''"
   ]
  },
  {
   "cell_type": "code",
   "execution_count": 173,
   "id": "862f166c",
   "metadata": {},
   "outputs": [
    {
     "data": {
      "text/plain": [
       "\"import matplotlib.pyplot as plt\\n%matplotlib inline\\n\\nplt.scatter(datos_1['x'], datos_1['y'], c = 'b')\\nplt.scatter(datos_2['x'], datos_2['y'], c = 'r')\\nplt.scatter(datos_3['x'], datos_3['y'], c = 'g')\\nplt.show()\""
      ]
     },
     "execution_count": 173,
     "metadata": {},
     "output_type": "execute_result"
    }
   ],
   "source": [
    "'''import matplotlib.pyplot as plt\n",
    "%matplotlib inline\n",
    "\n",
    "plt.scatter(datos_1['x'], datos_1['y'], c = 'b')\n",
    "plt.scatter(datos_2['x'], datos_2['y'], c = 'r')\n",
    "plt.scatter(datos_3['x'], datos_3['y'], c = 'g')\n",
    "plt.show()'''"
   ]
  },
  {
   "cell_type": "code",
   "execution_count": 174,
   "id": "a2509aed",
   "metadata": {},
   "outputs": [
    {
     "data": {
      "text/html": [
       "<div>\n",
       "<style scoped>\n",
       "    .dataframe tbody tr th:only-of-type {\n",
       "        vertical-align: middle;\n",
       "    }\n",
       "\n",
       "    .dataframe tbody tr th {\n",
       "        vertical-align: top;\n",
       "    }\n",
       "\n",
       "    .dataframe thead th {\n",
       "        text-align: right;\n",
       "    }\n",
       "</style>\n",
       "<table border=\"1\" class=\"dataframe\">\n",
       "  <thead>\n",
       "    <tr style=\"text-align: right;\">\n",
       "      <th></th>\n",
       "      <th>x</th>\n",
       "      <th>y</th>\n",
       "    </tr>\n",
       "  </thead>\n",
       "  <tbody>\n",
       "    <tr>\n",
       "      <th>0</th>\n",
       "      <td>59.100954</td>\n",
       "      <td>27.042244</td>\n",
       "    </tr>\n",
       "    <tr>\n",
       "      <th>1</th>\n",
       "      <td>20.073037</td>\n",
       "      <td>98.275296</td>\n",
       "    </tr>\n",
       "    <tr>\n",
       "      <th>2</th>\n",
       "      <td>38.616206</td>\n",
       "      <td>17.190809</td>\n",
       "    </tr>\n",
       "  </tbody>\n",
       "</table>\n",
       "</div>"
      ],
      "text/plain": [
       "           x          y\n",
       "0  59.100954  27.042244\n",
       "1  20.073037  98.275296\n",
       "2  38.616206  17.190809"
      ]
     },
     "execution_count": 174,
     "metadata": {},
     "output_type": "execute_result"
    }
   ],
   "source": [
    "def initialize_centroids(k, data):\n",
    "\n",
    "    n_dims = data.shape[1]\n",
    "    centroid_min = data.min().min()\n",
    "    centroid_max = data.max().max()\n",
    "    centroids = []\n",
    "\n",
    "    for centroid in range(k):\n",
    "        centroid = np.random.uniform(centroid_min, centroid_max, n_dims)\n",
    "        centroids.append(centroid)\n",
    "\n",
    "    centroids = pd.DataFrame(centroids, columns = data.columns)\n",
    "\n",
    "    return centroids\n",
    "\n",
    "centroids = initialize_centroids(3, data)\n",
    "centroids"
   ]
  },
  {
   "cell_type": "code",
   "execution_count": 175,
   "id": "fb861d83",
   "metadata": {},
   "outputs": [],
   "source": [
    "def calculate_error(a,b):\n",
    "    '''\n",
    "    Given two Numpy Arrays, calculates the root of the sum of squared errores.\n",
    "    '''\n",
    "    error = np.square(np.sum((a-b)**2))\n",
    "\n",
    "    return error    "
   ]
  },
  {
   "cell_type": "code",
   "execution_count": 176,
   "id": "b915d7f1",
   "metadata": {},
   "outputs": [
    {
     "data": {
      "text/plain": [
       "array([5563926.06466383, 1174405.44690165, 6828373.62636338])"
      ]
     },
     "execution_count": 176,
     "metadata": {},
     "output_type": "execute_result"
    }
   ],
   "source": [
    "errors = np.array([])\n",
    "for centroid in range(centroids.shape[0]):\n",
    "    error = calculate_error(centroids.iloc[centroid, :2], data.iloc[0,:2])\n",
    "    errors = np.append(errors, error)\n",
    "\n",
    "errors"
   ]
  },
  {
   "cell_type": "code",
   "execution_count": 177,
   "id": "e5810974",
   "metadata": {},
   "outputs": [
    {
     "data": {
      "image/png": "[encoded data removed]",
      "text/plain": [
       "<Figure size 640x480 with 1 Axes>"
      ]
     },
     "metadata": {},
     "output_type": "display_data"
    }
   ],
   "source": [
    "plt.scatter(data.iloc[1:,0], data.iloc[1:,1],  marker = 'o', alpha = 0.2)\n",
    "plt.scatter(centroids.iloc[:,0], centroids.iloc[:,1],  marker = 'o', c = 'r')\n",
    "plt.scatter(data.iloc[0,0], data.iloc[0,1],  marker = 'o', c = 'g')\n",
    "for i in range(centroids.shape[0]):\n",
    "    plt.text(centroids.iloc[i,0]+1, centroids.iloc[i,1]+1, s = centroids.index[i], c = 'r')"
   ]
  },
  {
   "cell_type": "code",
   "execution_count": 178,
   "id": "09a6e397",
   "metadata": {},
   "outputs": [
    {
     "data": {
      "text/plain": [
       "1"
      ]
     },
     "execution_count": 178,
     "metadata": {},
     "output_type": "execute_result"
    }
   ],
   "source": [
    "np.where(errors == np.amin(errors))[0].tolist()[0]"
   ]
  },
  {
   "cell_type": "code",
   "execution_count": 179,
   "id": "fc8f0e59",
   "metadata": {},
   "outputs": [
    {
     "data": {
      "text/html": [
       "<div>\n",
       "<style scoped>\n",
       "    .dataframe tbody tr th:only-of-type {\n",
       "        vertical-align: middle;\n",
       "    }\n",
       "\n",
       "    .dataframe tbody tr th {\n",
       "        vertical-align: top;\n",
       "    }\n",
       "\n",
       "    .dataframe thead th {\n",
       "        text-align: right;\n",
       "    }\n",
       "</style>\n",
       "<table border=\"1\" class=\"dataframe\">\n",
       "  <thead>\n",
       "    <tr style=\"text-align: right;\">\n",
       "      <th></th>\n",
       "      <th>centroid</th>\n",
       "      <th>error</th>\n",
       "    </tr>\n",
       "  </thead>\n",
       "  <tbody>\n",
       "    <tr>\n",
       "      <th>0</th>\n",
       "      <td>1</td>\n",
       "      <td>1.174405e+06</td>\n",
       "    </tr>\n",
       "    <tr>\n",
       "      <th>1</th>\n",
       "      <td>2</td>\n",
       "      <td>6.826985e+01</td>\n",
       "    </tr>\n",
       "    <tr>\n",
       "      <th>2</th>\n",
       "      <td>0</td>\n",
       "      <td>4.515372e+05</td>\n",
       "    </tr>\n",
       "    <tr>\n",
       "      <th>3</th>\n",
       "      <td>2</td>\n",
       "      <td>9.860102e+05</td>\n",
       "    </tr>\n",
       "    <tr>\n",
       "      <th>4</th>\n",
       "      <td>0</td>\n",
       "      <td>6.019190e+05</td>\n",
       "    </tr>\n",
       "  </tbody>\n",
       "</table>\n",
       "</div>"
      ],
      "text/plain": [
       "   centroid         error\n",
       "0         1  1.174405e+06\n",
       "1         2  6.826985e+01\n",
       "2         0  4.515372e+05\n",
       "3         2  9.860102e+05\n",
       "4         0  6.019190e+05"
      ]
     },
     "execution_count": 179,
     "metadata": {},
     "output_type": "execute_result"
    }
   ],
   "source": [
    "def assign_centroid(data, centroids):\n",
    "    '''\n",
    "    Receives a dataframe of data and centroids and returns a list assigning each observation a centroid.\n",
    "    data: a dataframe with all data that will be used.\n",
    "    centroids: a dataframe with the centroids. For assignment the index will be used.\n",
    "    '''\n",
    "\n",
    "    n_observations = data.shape[0]\n",
    "    centroid_assign = []\n",
    "    centroid_errors = []\n",
    "    k = centroids.shape[0]\n",
    "\n",
    "\n",
    "    for observation in range(n_observations):\n",
    "\n",
    "        # Calculate the errror\n",
    "        errors = np.array([])\n",
    "        for centroid in range(k):\n",
    "            error = calculate_error(centroids.iloc[centroid, :2], data.iloc[observation,:2])\n",
    "            errors = np.append(errors, error)\n",
    "\n",
    "        # Calculate closest centroid & error \n",
    "        closest_centroid =  np.where(errors == np.amin(errors))[0].tolist()[0]\n",
    "        centroid_error = np.amin(errors)\n",
    "\n",
    "        # Assign values to lists\n",
    "        centroid_assign.append(closest_centroid)\n",
    "        centroid_errors.append(centroid_error)\n",
    "\n",
    "    return (centroid_assign,centroid_errors)\n",
    "\n",
    "data['centroid'], data['error'] = assign_centroid(data.iloc[:,:2] ,centroids)\n",
    "data[['centroid', 'error']].head()\n",
    "\n"
   ]
  },
  {
   "cell_type": "code",
   "execution_count": 180,
   "id": "ae556b77",
   "metadata": {},
   "outputs": [
    {
     "data": {
      "text/plain": [
       "<matplotlib.collections.PathCollection at 0x11f092730>"
      ]
     },
     "execution_count": 180,
     "metadata": {},
     "output_type": "execute_result"
    },
    {
     "data": {
      "image/png": "[encoded data removed]",
      "text/plain": [
       "<Figure size 640x480 with 1 Axes>"
      ]
     },
     "metadata": {},
     "output_type": "display_data"
    }
   ],
   "source": [
    "colors = {0:'red', 1:'blue', 2:'green'}\n",
    "\n",
    "plt.scatter(data.iloc[:,0], data.iloc[:,1],  marker = 'o', c = data['centroid'].apply(lambda x: colors[x]), alpha = 0.5)\n",
    "plt.scatter(centroids.iloc[:,0], centroids.iloc[:,1],  marker = 'o', s=300, \n",
    "           c = centroids.index.map(lambda x: colors[x]))"
   ]
  },
  {
   "cell_type": "code",
   "execution_count": 181,
   "id": "340b4acb",
   "metadata": {},
   "outputs": [
    {
     "data": {
      "text/plain": [
       "155122849.0004954"
      ]
     },
     "execution_count": 181,
     "metadata": {},
     "output_type": "execute_result"
    }
   ],
   "source": [
    "data['error'].sum()"
   ]
  },
  {
   "cell_type": "code",
   "execution_count": 182,
   "id": "3e5b4c18",
   "metadata": {},
   "outputs": [
    {
     "data": {
      "text/html": [
       "<div>\n",
       "<style scoped>\n",
       "    .dataframe tbody tr th:only-of-type {\n",
       "        vertical-align: middle;\n",
       "    }\n",
       "\n",
       "    .dataframe tbody tr th {\n",
       "        vertical-align: top;\n",
       "    }\n",
       "\n",
       "    .dataframe thead th {\n",
       "        text-align: right;\n",
       "    }\n",
       "</style>\n",
       "<table border=\"1\" class=\"dataframe\">\n",
       "  <thead>\n",
       "    <tr style=\"text-align: right;\">\n",
       "      <th></th>\n",
       "      <th>x</th>\n",
       "      <th>y</th>\n",
       "    </tr>\n",
       "  </thead>\n",
       "  <tbody>\n",
       "    <tr>\n",
       "      <th>0</th>\n",
       "      <td>72.636364</td>\n",
       "      <td>41.818182</td>\n",
       "    </tr>\n",
       "    <tr>\n",
       "      <th>1</th>\n",
       "      <td>47.866667</td>\n",
       "      <td>83.466667</td>\n",
       "    </tr>\n",
       "    <tr>\n",
       "      <th>2</th>\n",
       "      <td>26.615385</td>\n",
       "      <td>25.000000</td>\n",
       "    </tr>\n",
       "  </tbody>\n",
       "</table>\n",
       "</div>"
      ],
      "text/plain": [
       "           x          y\n",
       "0  72.636364  41.818182\n",
       "1  47.866667  83.466667\n",
       "2  26.615385  25.000000"
      ]
     },
     "execution_count": 182,
     "metadata": {},
     "output_type": "execute_result"
    }
   ],
   "source": [
    "data_columns = ['x','y']\n",
    "\n",
    "centroids = data.groupby('centroid').agg('mean').loc[:,data_columns].reset_index(drop = True)\n",
    "centroids\n"
   ]
  },
  {
   "cell_type": "code",
   "execution_count": 183,
   "id": "078e4218",
   "metadata": {},
   "outputs": [
    {
     "data": {
      "text/plain": [
       "<matplotlib.collections.PathCollection at 0x11f109220>"
      ]
     },
     "execution_count": 183,
     "metadata": {},
     "output_type": "execute_result"
    },
    {
     "data": {
      "image/png": "[encoded data removed]",
      "text/plain": [
       "<Figure size 640x480 with 1 Axes>"
      ]
     },
     "metadata": {},
     "output_type": "display_data"
    }
   ],
   "source": [
    "plt.scatter(data.iloc[:,0], data.iloc[:,1],  marker = 'o', c = data['centroid'].apply(lambda x: colors[x]), alpha = 0.5)\n",
    "plt.scatter(centroids.iloc[:,0], centroids.iloc[:,1],  marker = 'o', s=300, \n",
    "           c = centroids.index.map(lambda x: colors[x]))"
   ]
  },
  {
   "cell_type": "code",
   "execution_count": 184,
   "id": "6e61007a",
   "metadata": {},
   "outputs": [],
   "source": [
    "def knn(data, k):\n",
    "    '''\n",
    "    Given a dataset and number of clusters, it clusterizes the data. \n",
    "    data: a DataFrame with all information necessary\n",
    "    k: number of clusters to create\n",
    "    '''\n",
    "\n",
    "    # Initialize centroids and error\n",
    "    centroids = initialize_centroids(k, data)\n",
    "    error = []\n",
    "    compr = True\n",
    "    i = 0\n",
    "\n",
    "    while(compr):\n",
    "        # Obtain centroids and error\n",
    "        data['centroid'], iter_error = assign_centroid(data,centroids)\n",
    "        error.append(sum(iter_error))\n",
    "        # Recalculate centroids\n",
    "        centroids = data.groupby('centroid').agg('mean').reset_index(drop = True)\n",
    "\n",
    "        # Check if the error has decreased\n",
    "        if(len(error)<2):\n",
    "            compr = True\n",
    "        else:\n",
    "            if(round(error[i],3) !=  round(error[i-1],3)):\n",
    "                compr = True\n",
    "            else:\n",
    "                compr = False\n",
    "        i = i + 1 \n",
    "\n",
    "    data['centroid'], iter_error = assign_centroid(data,centroids)\n",
    "    centroids = data.groupby('centroid').agg('mean').reset_index(drop = True)\n",
    "    return (data['centroid'], iter_error, centroids)"
   ]
  },
  {
   "cell_type": "code",
   "execution_count": 185,
   "id": "68db643c",
   "metadata": {},
   "outputs": [
    {
     "data": {
      "text/plain": [
       "0    2\n",
       "1    1\n",
       "2    0\n",
       "3    1\n",
       "4    2\n",
       "Name: centroid, dtype: int64"
      ]
     },
     "execution_count": 185,
     "metadata": {},
     "output_type": "execute_result"
    }
   ],
   "source": [
    "data['centroid'], _, centroids =  knn(data.drop(['centroid','error'], axis = 1),3)\n",
    "data['centroid'].head()"
   ]
  },
  {
   "cell_type": "code",
   "execution_count": 186,
   "id": "cff93831",
   "metadata": {},
   "outputs": [
    {
     "data": {
      "text/plain": [
       "<matplotlib.collections.PathCollection at 0x11f041cd0>"
      ]
     },
     "execution_count": 186,
     "metadata": {},
     "output_type": "execute_result"
    },
    {
     "data": {
      "image/png": "[encoded data removed]",
      "text/plain": [
       "<Figure size 640x480 with 1 Axes>"
      ]
     },
     "metadata": {},
     "output_type": "display_data"
    }
   ],
   "source": [
    "plt.scatter(data.iloc[:,0], data.iloc[:,1],  marker = 'o', c = data['centroid'].apply(lambda x: colors[x]), alpha = 0.5)\n",
    "plt.scatter(centroids.iloc[:,0], centroids.iloc[:,1],  marker = 'o', s=300, \n",
    "           c = centroids.index.map(lambda x: colors[x]))\n"
   ]
  },
  {
   "cell_type": "code",
   "execution_count": 187,
   "id": "ffadaf80",
   "metadata": {},
   "outputs": [
    {
     "data": {
      "text/plain": [
       "[11748935.672534456,\n",
       " 24182521.668362882,\n",
       " 10652575.21982442,\n",
       " 11596132.094134971,\n",
       " 23743620.82913487,\n",
       " 37459208.42737008,\n",
       " 28348304.267102353,\n",
       " 11182285.37190289,\n",
       " 11596132.094134971,\n",
       " 11070037.072074028]"
      ]
     },
     "execution_count": 187,
     "metadata": {},
     "output_type": "execute_result"
    }
   ],
   "source": [
    "num_trials = 10\n",
    "\n",
    "classifications = []\n",
    "errors = []\n",
    "centroids = []\n",
    "\n",
    "for i in range(num_trials):\n",
    "\n",
    "    np.random.seed(i)\n",
    "\n",
    "    iter_class, iter_error, iter_centroid = knn(data.drop(['centroid','error'], axis = 1),4)\n",
    "\n",
    "    classifications.append(iter_class)\n",
    "    errors.append(sum(iter_error))\n",
    "    centroids.append(iter_centroid)\n",
    "\n",
    "errors"
   ]
  },
  {
   "cell_type": "code",
   "execution_count": 188,
   "id": "0ac6c380",
   "metadata": {},
   "outputs": [],
   "source": [
    "## Usi"
   ]
  },
  {
   "cell_type": "code",
   "execution_count": null,
   "id": "09ae5eaa",
   "metadata": {},
   "outputs": [],
   "source": []
  }
 ],
 "metadata": {
  "kernelspec": {
   "display_name": "Python 3 (ipykernel)",
   "language": "python",
   "name": "python3"
  },
  "language_info": {
   "codemirror_mode": {
    "name": "ipython",
    "version": 3
   },
   "file_extension": ".py",
   "mimetype": "text/x-python",
   "name": "python",
   "nbconvert_exporter": "python",
   "pygments_lexer": "ipython3",
   "version": "3.9.13"
  }
 },
 "nbformat": 4,
 "nbformat_minor": 5
}
